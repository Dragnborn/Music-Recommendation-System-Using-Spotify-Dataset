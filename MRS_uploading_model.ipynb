{
  "nbformat": 4,
  "nbformat_minor": 0,
  "metadata": {
    "colab": {
      "provenance": [],
      "collapsed_sections": [
        "CydsZjWkQcby",
        "pj3BgqdgeV3d"
      ]
    },
    "kernelspec": {
      "name": "python3",
      "display_name": "Python 3"
    },
    "language_info": {
      "name": "python"
    }
  },
  "cells": [
    {
      "cell_type": "markdown",
      "source": [
        "# Работа с готовой моделью h5"
      ],
      "metadata": {
        "id": "rNTImyeEvvyn"
      }
    },
    {
      "cell_type": "code",
      "source": [
        "!pip uninstall -y torch-scatter torch-sparse torch-geometric\n",
        "!pip install torch-scatter -f https://data.pyg.org/whl/torch-{torch.__version__}.html\n",
        "!pip install torch-sparse -f https://data.pyg.org/whl/torch-{torch.__version__}.html\n",
        "!pip install torch-geometric"
      ],
      "metadata": {
        "colab": {
          "base_uri": "https://localhost:8080/"
        },
        "id": "6MGOHB2VvyPQ",
        "outputId": "9c87d475-cc2d-4c84-81ef-99dd814ba047"
      },
      "execution_count": null,
      "outputs": [
        {
          "output_type": "stream",
          "name": "stdout",
          "text": [
            "\u001b[33mWARNING: Skipping torch-scatter as it is not installed.\u001b[0m\u001b[33m\n",
            "\u001b[0m\u001b[33mWARNING: Skipping torch-sparse as it is not installed.\u001b[0m\u001b[33m\n",
            "\u001b[0m\u001b[33mWARNING: Skipping torch-geometric as it is not installed.\u001b[0m\u001b[33m\n",
            "\u001b[0mLooking in links: https://data.pyg.org/whl/torch-2.6.0+cu124.html\n",
            "Collecting torch-scatter\n",
            "  Downloading https://data.pyg.org/whl/torch-2.6.0%2Bcu124/torch_scatter-2.1.2%2Bpt26cu124-cp311-cp311-linux_x86_64.whl (10.8 MB)\n",
            "\u001b[?25l     \u001b[90m━━━━━━━━━━━━━━━━━━━━━━━━━━━━━━━━━━━━━━━━\u001b[0m \u001b[32m0.0/10.8 MB\u001b[0m \u001b[31m?\u001b[0m eta \u001b[36m-:--:--\u001b[0m\n",
            "\u001b[?25h\u001b[31mERROR: Operation cancelled by user\u001b[0m\u001b[31m\n",
            "\u001b[0mLooking in links: https://data.pyg.org/whl/torch-2.6.0+cu124.html\n",
            "Collecting torch-sparse\n",
            "\u001b[31mERROR: Operation cancelled by user\u001b[0m\u001b[31m\n",
            "\u001b[0mCollecting torch-geometric\n",
            "  Downloading torch_geometric-2.6.1-py3-none-any.whl.metadata (63 kB)\n",
            "\u001b[2K     \u001b[90m━━━━━━━━━━━━━━━━━━━━━━━━━━━━━━━━━━━━━━━━\u001b[0m \u001b[32m63.1/63.1 kB\u001b[0m \u001b[31m4.0 MB/s\u001b[0m eta \u001b[36m0:00:00\u001b[0m\n",
            "\u001b[?25hRequirement already satisfied: aiohttp in /usr/local/lib/python3.11/dist-packages (from torch-geometric) (3.11.15)\n",
            "Requirement already satisfied: fsspec in /usr/local/lib/python3.11/dist-packages (from torch-geometric) (2025.3.2)\n",
            "Requirement already satisfied: jinja2 in /usr/local/lib/python3.11/dist-packages (from torch-geometric) (3.1.6)\n",
            "Requirement already satisfied: numpy in /usr/local/lib/python3.11/dist-packages (from torch-geometric) (2.0.2)\n",
            "Requirement already satisfied: psutil>=5.8.0 in /usr/local/lib/python3.11/dist-packages (from torch-geometric) (5.9.5)\n",
            "Requirement already satisfied: pyparsing in /usr/local/lib/python3.11/dist-packages (from torch-geometric) (3.2.3)\n",
            "Requirement already satisfied: requests in /usr/local/lib/python3.11/dist-packages (from torch-geometric) (2.32.3)\n",
            "Requirement already satisfied: tqdm in /usr/local/lib/python3.11/dist-packages (from torch-geometric) (4.67.1)\n",
            "Requirement already satisfied: aiohappyeyeballs>=2.3.0 in /usr/local/lib/python3.11/dist-packages (from aiohttp->torch-geometric) (2.6.1)\n",
            "Requirement already satisfied: aiosignal>=1.1.2 in /usr/local/lib/python3.11/dist-packages (from aiohttp->torch-geometric) (1.3.2)\n",
            "Requirement already satisfied: attrs>=17.3.0 in /usr/local/lib/python3.11/dist-packages (from aiohttp->torch-geometric) (25.3.0)\n",
            "Requirement already satisfied: frozenlist>=1.1.1 in /usr/local/lib/python3.11/dist-packages (from aiohttp->torch-geometric) (1.6.0)\n",
            "Requirement already satisfied: multidict<7.0,>=4.5 in /usr/local/lib/python3.11/dist-packages (from aiohttp->torch-geometric) (6.4.4)\n",
            "Requirement already satisfied: propcache>=0.2.0 in /usr/local/lib/python3.11/dist-packages (from aiohttp->torch-geometric) (0.3.1)\n",
            "Requirement already satisfied: yarl<2.0,>=1.17.0 in /usr/local/lib/python3.11/dist-packages (from aiohttp->torch-geometric) (1.20.0)\n",
            "Requirement already satisfied: MarkupSafe>=2.0 in /usr/local/lib/python3.11/dist-packages (from jinja2->torch-geometric) (3.0.2)\n",
            "Requirement already satisfied: charset-normalizer<4,>=2 in /usr/local/lib/python3.11/dist-packages (from requests->torch-geometric) (3.4.2)\n",
            "Requirement already satisfied: idna<4,>=2.5 in /usr/local/lib/python3.11/dist-packages (from requests->torch-geometric) (3.10)\n",
            "Requirement already satisfied: urllib3<3,>=1.21.1 in /usr/local/lib/python3.11/dist-packages (from requests->torch-geometric) (2.4.0)\n",
            "Requirement already satisfied: certifi>=2017.4.17 in /usr/local/lib/python3.11/dist-packages (from requests->torch-geometric) (2025.4.26)\n",
            "Downloading torch_geometric-2.6.1-py3-none-any.whl (1.1 MB)\n",
            "\u001b[2K   \u001b[90m━━━━━━━━━━━━━━━━━━━━━━━━━━━━━━━━━━━━━━━━\u001b[0m \u001b[32m1.1/1.1 MB\u001b[0m \u001b[31m46.5 MB/s\u001b[0m eta \u001b[36m0:00:00\u001b[0m\n",
            "\u001b[?25hInstalling collected packages: torch-geometric\n",
            "Successfully installed torch-geometric-2.6.1\n"
          ]
        }
      ]
    },
    {
      "cell_type": "code",
      "source": [
        "import torch\n",
        "import h5py\n",
        "import numpy as np\n",
        "import pandas as pd\n",
        "from sklearn.preprocessing import StandardScaler\n",
        "from sklearn.neighbors import NearestNeighbors"
      ],
      "metadata": {
        "id": "fd7pMcQev7TC"
      },
      "execution_count": null,
      "outputs": []
    },
    {
      "cell_type": "code",
      "source": [
        "from torch_geometric.nn import GCNConv\n",
        "import torch.nn.functional as F"
      ],
      "metadata": {
        "id": "BWjNZpvh1sv1"
      },
      "execution_count": null,
      "outputs": []
    },
    {
      "cell_type": "code",
      "source": [
        "class TypeSafeGCN(torch.nn.Module):\n",
        "    def __init__(self, input_dim, hidden_dim, output_dim):\n",
        "        super().__init__()\n",
        "        self.input_dim = input_dim\n",
        "        self.hidden_dim = hidden_dim\n",
        "        self.output_dim = output_dim\n",
        "\n",
        "        # Используем правильные названия параметров для GCNConv\n",
        "        self.conv1 = GCNConv(input_dim, hidden_dim)\n",
        "        self.conv2 = GCNConv(hidden_dim, output_dim)\n",
        "\n",
        "    def forward(self, x, edge_index=None):\n",
        "        x = x.float()\n",
        "        x = F.relu(self.conv1(x, edge_index))\n",
        "        return self.conv2(x, edge_index)"
      ],
      "metadata": {
        "id": "F31uvCyPwMKF"
      },
      "execution_count": null,
      "outputs": []
    },
    {
      "cell_type": "code",
      "source": [
        "def load_full_model(filename, device='cpu'):\n",
        "    \"\"\"Загрузка модели из HDF5 файла\"\"\"\n",
        "    with h5py.File(filename, 'r') as f:\n",
        "        model_grp = f['model']\n",
        "        input_dim = model_grp.attrs['input_dim']\n",
        "        hidden_dim = model_grp.attrs['hidden_dim']\n",
        "        output_dim = model_grp.attrs['output_dim']\n",
        "\n",
        "        model = TypeSafeGCN(input_dim, hidden_dim, output_dim).to(device)\n",
        "\n",
        "        weights_grp = model_grp['weights']\n",
        "\n",
        "        # Правильные названия параметров для GCNConv\n",
        "        state_dict = {\n",
        "            'conv1.lin.weight': torch.tensor(weights_grp['conv1.lin.weight'][...]),\n",
        "            'conv1.bias': torch.tensor(weights_grp['conv1.bias'][...]),\n",
        "            'conv2.lin.weight': torch.tensor(weights_grp['conv2.lin.weight'][...]),\n",
        "            'conv2.bias': torch.tensor(weights_grp['conv2.bias'][...])\n",
        "        }\n",
        "\n",
        "        model.load_state_dict(state_dict)\n",
        "\n",
        "        # Загрузка StandardScaler\n",
        "        scaler = StandardScaler()\n",
        "        scaler.mean_ = f['scaler/mean_'][...]\n",
        "        scaler.scale_ = f['scaler/scale_'][...]\n",
        "        scaler.var_ = f['scaler/var_'][...]\n",
        "\n",
        "        # Загрузка feature columns\n",
        "        feature_columns = [col.decode('utf-8') for col in f['feature_columns'][...]]\n",
        "\n",
        "    return model, scaler, feature_columns"
      ],
      "metadata": {
        "id": "HUIaCU4WwM62"
      },
      "execution_count": null,
      "outputs": []
    },
    {
      "cell_type": "code",
      "source": [
        "def get_recommendations(model, scaler, feature_columns, data, song_list, n=5):\n",
        "    \"\"\"Генерация рекомендаций\"\"\"\n",
        "    # Проверка входных данных\n",
        "    if not song_list:\n",
        "        return pd.DataFrame(columns=['name', 'artists'])\n",
        "\n",
        "    # Поиск входных песен\n",
        "    input_features = []\n",
        "    found_songs = []\n",
        "\n",
        "    for song in song_list:\n",
        "        try:\n",
        "            # Поиск с учетом формата списка исполнителей\n",
        "            mask = (\n",
        "                data['name'].str.lower().str.strip() == song['name'].lower().strip()\n",
        "            ) & (\n",
        "                data['artists'].str.lower().str.contains(song['artists'].lower().strip())\n",
        "            )\n",
        "\n",
        "            matches = data[mask]\n",
        "            if not matches.empty:\n",
        "                song_data = matches.iloc[0]\n",
        "                input_features.append(song_data[feature_columns].values)\n",
        "                found_songs.append(song_data['name'])\n",
        "            else:\n",
        "                print(f\"Песня '{song['name']}' не найдена\")\n",
        "                return pd.DataFrame()\n",
        "\n",
        "        except Exception as e:\n",
        "            print(f\"Ошибка обработки: {str(e)}\")\n",
        "            return pd.DataFrame()\n",
        "\n",
        "    # Нормализация данных\n",
        "    try:\n",
        "        X = np.stack(input_features)\n",
        "        X_scaled = scaler.transform(X)\n",
        "    except ValueError as e:\n",
        "        print(f\"Ошибка нормализации: {str(e)}\")\n",
        "        return pd.DataFrame()\n",
        "\n",
        "    # Получение эмбеддингов\n",
        "    with torch.no_grad():\n",
        "        model.eval()\n",
        "        device = next(model.parameters()).device\n",
        "        input_tensor = torch.tensor(X_scaled, dtype=torch.float32).to(device)\n",
        "\n",
        "        # Для совместимости: если edge_index не используется\n",
        "        dummy_edge_index = torch.zeros((2, 1), dtype=torch.long).to(device)\n",
        "\n",
        "        query_embedding = model(input_tensor, dummy_edge_index).mean(dim=0)\n",
        "        all_embeddings = model(\n",
        "        torch.tensor(scaler.transform(data[feature_columns]), dtype=torch.float32).to(device),  # Закрыта скобка\n",
        "        dummy_edge_index\n",
        "    )\n",
        "\n",
        "    # Поиск рекомендаций\n",
        "    nbrs = NearestNeighbors(n_neighbors=n+len(found_songs), metric='cosine')\n",
        "    nbrs.fit(all_embeddings.cpu().numpy())\n",
        "    distances, indices = nbrs.kneighbors(query_embedding.cpu().numpy().reshape(1, -1))\n",
        "\n",
        "    recommendations = data.iloc[indices[0]]\n",
        "    recommendations = recommendations[~recommendations['name'].isin(found_songs)]\n",
        "\n",
        "    return recommendations.head(n)[['name', 'artists']]"
      ],
      "metadata": {
        "id": "RK64EKQowaFb"
      },
      "execution_count": null,
      "outputs": []
    },
    {
      "cell_type": "code",
      "source": [
        "# Пример использования\n",
        "if __name__ == \"__main__\":\n",
        "    # Загрузка данных\n",
        "    data = pd.read_csv(\"data.csv\")[['name', 'artists', 'valence', 'year',\n",
        "                                  'acousticness', 'danceability', 'duration_ms',\n",
        "                                  'energy', 'explicit', 'instrumentalness',\n",
        "                                  'key', 'liveness', 'loudness', 'mode',\n",
        "                                  'popularity', 'speechiness', 'tempo']].dropna()\n",
        "\n",
        "    # Загрузка модели\n",
        "    device = 'cuda' if torch.cuda.is_available() else 'cpu'\n",
        "    try:\n",
        "        model, scaler, feature_columns = load_full_model(\"fixed_model2.h5\", device)\n",
        "        print(\"Модель успешно загружена\")\n",
        "    except Exception as e:\n",
        "        print(f\"Ошибка загрузки модели: {str(e)}\")\n",
        "        exit()\n",
        "\n",
        "    # Тест рекомендаций\n",
        "    recommendations = get_recommendations(\n",
        "        model=model,\n",
        "        scaler=scaler,\n",
        "        feature_columns=feature_columns,\n",
        "        data=data,\n",
        "        song_list=[{'name': 'Bohemian Rhapsody', 'artists': 'Queen'}],\n",
        "        n=10\n",
        "    )\n",
        "\n",
        "    if not recommendations.empty:\n",
        "        print(\"\\nТоп рекомендаций:\")\n",
        "        print(recommendations.to_string(index=False))\n",
        "    else:\n",
        "        print(\"\\nРекомендации не найдены\")"
      ],
      "metadata": {
        "colab": {
          "base_uri": "https://localhost:8080/"
        },
        "id": "eQUoLwatxs3t",
        "outputId": "930ec0c2-8d97-4d93-c5a1-ad6b14ba9c40"
      },
      "execution_count": null,
      "outputs": [
        {
          "output_type": "stream",
          "name": "stdout",
          "text": [
            "Модель успешно загружена\n"
          ]
        },
        {
          "output_type": "stream",
          "name": "stderr",
          "text": [
            "/usr/local/lib/python3.11/dist-packages/sklearn/utils/validation.py:2732: UserWarning: X has feature names, but StandardScaler was fitted without feature names\n",
            "  warnings.warn(\n"
          ]
        },
        {
          "output_type": "stream",
          "name": "stdout",
          "text": [
            "\n",
            "Топ рекомендаций:\n",
            "                                                             name                                                 artists\n",
            "                              Bohemian Rhapsody - Remastered 2011                                               ['Queen']\n",
            "Rooster - Live at the Majestic Theatre, Brooklyn, NY - April 1996                                     ['Alice In Chains']\n",
            "                                                       The Wolves                                          ['Ben Howard']\n",
            "                                                    Aléjate de Mí                                              ['Camila']\n",
            "                                                      Think Twice                                         ['Céline Dion']\n",
            "                                         The Phantom Of the Opera ['Andrew Lloyd Webber', 'Gerard Butler', 'Emmy Rossum']\n",
            "                                                     Pagan Poetry                                               ['Björk']\n",
            "                                                 Ven Espíritu Ven                                    ['Marco Barrientos']\n",
            "                                                         Movement                                              ['Hozier']\n",
            "                                                          Shuggie                                             ['Foxygen']\n"
          ]
        }
      ]
    }
  ]
}