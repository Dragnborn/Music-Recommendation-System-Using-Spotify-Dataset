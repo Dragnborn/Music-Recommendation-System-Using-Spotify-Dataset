{
  "nbformat": 4,
  "nbformat_minor": 0,
  "metadata": {
    "colab": {
      "provenance": []
    },
    "kernelspec": {
      "name": "python3",
      "display_name": "Python 3"
    },
    "language_info": {
      "name": "python"
    }
  },
  "cells": [
    {
      "cell_type": "code",
      "source": [
        "pip install torch_geometric"
      ],
      "metadata": {
        "colab": {
          "base_uri": "https://localhost:8080/"
        },
        "id": "WTOTF97kbaj3",
        "outputId": "cf18bc25-8096-4f52-b765-b7f5a5a87abc"
      },
      "execution_count": 5,
      "outputs": [
        {
          "output_type": "stream",
          "name": "stdout",
          "text": [
            "Collecting torch_geometric\n",
            "  Downloading torch_geometric-2.6.1-py3-none-any.whl.metadata (63 kB)\n",
            "\u001b[?25l     \u001b[90m━━━━━━━━━━━━━━━━━━━━━━━━━━━━━━━━━━━━━━━━\u001b[0m \u001b[32m0.0/63.1 kB\u001b[0m \u001b[31m?\u001b[0m eta \u001b[36m-:--:--\u001b[0m\r\u001b[2K     \u001b[90m━━━━━━━━━━━━━━━━━━━━━━━━━━━━━━━━━━━━━━━━\u001b[0m \u001b[32m63.1/63.1 kB\u001b[0m \u001b[31m1.6 MB/s\u001b[0m eta \u001b[36m0:00:00\u001b[0m\n",
            "\u001b[?25hRequirement already satisfied: aiohttp in /usr/local/lib/python3.11/dist-packages (from torch_geometric) (3.11.15)\n",
            "Requirement already satisfied: fsspec in /usr/local/lib/python3.11/dist-packages (from torch_geometric) (2025.3.2)\n",
            "Requirement already satisfied: jinja2 in /usr/local/lib/python3.11/dist-packages (from torch_geometric) (3.1.6)\n",
            "Requirement already satisfied: numpy in /usr/local/lib/python3.11/dist-packages (from torch_geometric) (2.0.2)\n",
            "Requirement already satisfied: psutil>=5.8.0 in /usr/local/lib/python3.11/dist-packages (from torch_geometric) (5.9.5)\n",
            "Requirement already satisfied: pyparsing in /usr/local/lib/python3.11/dist-packages (from torch_geometric) (3.2.3)\n",
            "Requirement already satisfied: requests in /usr/local/lib/python3.11/dist-packages (from torch_geometric) (2.32.3)\n",
            "Requirement already satisfied: tqdm in /usr/local/lib/python3.11/dist-packages (from torch_geometric) (4.67.1)\n",
            "Requirement already satisfied: aiohappyeyeballs>=2.3.0 in /usr/local/lib/python3.11/dist-packages (from aiohttp->torch_geometric) (2.6.1)\n",
            "Requirement already satisfied: aiosignal>=1.1.2 in /usr/local/lib/python3.11/dist-packages (from aiohttp->torch_geometric) (1.3.2)\n",
            "Requirement already satisfied: attrs>=17.3.0 in /usr/local/lib/python3.11/dist-packages (from aiohttp->torch_geometric) (25.3.0)\n",
            "Requirement already satisfied: frozenlist>=1.1.1 in /usr/local/lib/python3.11/dist-packages (from aiohttp->torch_geometric) (1.6.0)\n",
            "Requirement already satisfied: multidict<7.0,>=4.5 in /usr/local/lib/python3.11/dist-packages (from aiohttp->torch_geometric) (6.4.3)\n",
            "Requirement already satisfied: propcache>=0.2.0 in /usr/local/lib/python3.11/dist-packages (from aiohttp->torch_geometric) (0.3.1)\n",
            "Requirement already satisfied: yarl<2.0,>=1.17.0 in /usr/local/lib/python3.11/dist-packages (from aiohttp->torch_geometric) (1.20.0)\n",
            "Requirement already satisfied: MarkupSafe>=2.0 in /usr/local/lib/python3.11/dist-packages (from jinja2->torch_geometric) (3.0.2)\n",
            "Requirement already satisfied: charset-normalizer<4,>=2 in /usr/local/lib/python3.11/dist-packages (from requests->torch_geometric) (3.4.1)\n",
            "Requirement already satisfied: idna<4,>=2.5 in /usr/local/lib/python3.11/dist-packages (from requests->torch_geometric) (3.10)\n",
            "Requirement already satisfied: urllib3<3,>=1.21.1 in /usr/local/lib/python3.11/dist-packages (from requests->torch_geometric) (2.4.0)\n",
            "Requirement already satisfied: certifi>=2017.4.17 in /usr/local/lib/python3.11/dist-packages (from requests->torch_geometric) (2025.1.31)\n",
            "Downloading torch_geometric-2.6.1-py3-none-any.whl (1.1 MB)\n",
            "\u001b[2K   \u001b[90m━━━━━━━━━━━━━━━━━━━━━━━━━━━━━━━━━━━━━━━━\u001b[0m \u001b[32m1.1/1.1 MB\u001b[0m \u001b[31m15.9 MB/s\u001b[0m eta \u001b[36m0:00:00\u001b[0m\n",
            "\u001b[?25hInstalling collected packages: torch_geometric\n",
            "Successfully installed torch_geometric-2.6.1\n"
          ]
        }
      ]
    },
    {
      "cell_type": "code",
      "source": [
        "import os\n",
        "import numpy as np\n",
        "import pandas as pd\n",
        "import torch\n",
        "import torch.nn as nn\n",
        "import torch.nn.functional as F\n",
        "from torch_geometric.data import Data, Dataset\n",
        "from torch_geometric.loader import DataLoader\n",
        "from torch_geometric.nn import GCNConv\n",
        "from sklearn.preprocessing import StandardScaler\n",
        "from sklearn.metrics.pairwise import cosine_similarity"
      ],
      "metadata": {
        "id": "p7tpB4KxbV1H"
      },
      "execution_count": 45,
      "outputs": []
    },
    {
      "cell_type": "code",
      "source": [
        "from google.colab import runtime\n",
        "def exit_on_oom():\n",
        "    print('Out of memory! Restarting runtime...')\n",
        "    runtime.unassign()\n",
        "%set_env PYTHONFAULTHANDLER=1"
      ],
      "metadata": {
        "colab": {
          "base_uri": "https://localhost:8080/"
        },
        "id": "8jUOkgtBchzQ",
        "outputId": "ab571c66-0b22-49fa-dfdc-a6e9bb636e0f"
      },
      "execution_count": 46,
      "outputs": [
        {
          "output_type": "stream",
          "name": "stdout",
          "text": [
            "env: PYTHONFAULTHANDLER=1\n"
          ]
        }
      ]
    },
    {
      "cell_type": "code",
      "source": [
        "import torch\n",
        "import torch.nn as nn\n",
        "import torch.nn.functional as F\n",
        "from torch_geometric.data import Data, Dataset\n",
        "from torch_geometric.loader import DataLoader\n",
        "from torch_geometric.nn import GCNConv\n",
        "from sklearn.preprocessing import StandardScaler\n",
        "from sklearn.neighbors import NearestNeighbors\n",
        "import numpy as np\n",
        "import pandas as pd\n",
        "import gc"
      ],
      "metadata": {
        "id": "vdersMQYfCn4"
      },
      "execution_count": 47,
      "outputs": []
    },
    {
      "cell_type": "code",
      "source": [
        "# Конфигурация типов данных\n",
        "torch.set_default_dtype(torch.float32)\n",
        "device = torch.device('cuda' if torch.cuda.is_available() else 'cpu')"
      ],
      "metadata": {
        "id": "TQwoKMqIfFHx"
      },
      "execution_count": 48,
      "outputs": []
    },
    {
      "cell_type": "code",
      "source": [
        "# Загрузка данных с контролем памяти\n",
        "def load_data(path):\n",
        "    df = pd.read_csv(path)\n",
        "    number_cols = [\n",
        "        'valence', 'year', 'acousticness', 'danceability', 'duration_ms',\n",
        "        'energy', 'explicit', 'instrumentalness', 'key', 'liveness',\n",
        "        'loudness', 'mode', 'popularity', 'speechiness', 'tempo'\n",
        "    ]\n",
        "    return df[['name', 'artists', 'year'] + number_cols].dropna().reset_index(drop=True)\n",
        "\n",
        "data = load_data(\"/content/data.csv\")\n",
        "print(f\"Loaded {len(data)} songs\")"
      ],
      "metadata": {
        "colab": {
          "base_uri": "https://localhost:8080/"
        },
        "id": "IhLI7sMXfIAx",
        "outputId": "4512dfda-e318-4384-dfe2-337666851cf1"
      },
      "execution_count": 49,
      "outputs": [
        {
          "output_type": "stream",
          "name": "stdout",
          "text": [
            "Loaded 170653 songs\n"
          ]
        }
      ]
    },
    {
      "cell_type": "code",
      "source": [
        "# Класс датасета с контролем типов\n",
        "class TypeSafeMusicDataset(Dataset):\n",
        "    def __init__(self, data, top_k=20):\n",
        "        super().__init__()\n",
        "        self.data = data\n",
        "        self.top_k = top_k\n",
        "        self.node_features, self.edge_index = self._build_graph()\n",
        "\n",
        "    def _build_graph(self):\n",
        "        # Нормализация данных\n",
        "        scaler = StandardScaler()\n",
        "        features = scaler.fit_transform(self.data.iloc[:, 3:].values)\n",
        "\n",
        "        # Поиск соседей\n",
        "        nbrs = NearestNeighbors(n_neighbors=self.top_k+1, metric='cosine')\n",
        "        nbrs.fit(features)\n",
        "        _, indices = nbrs.kneighbors(features)\n",
        "\n",
        "        # Создание edge_index\n",
        "        rows = np.repeat(np.arange(len(indices)), self.top_k)\n",
        "        cols = indices[:, 1:].flatten()\n",
        "\n",
        "        # Создание тензоров с явным указанием типа\n",
        "        features_tensor = torch.tensor(features, dtype=torch.float32).to(device)\n",
        "        edge_index = torch.tensor([rows, cols], dtype=torch.long).to(device)\n",
        "\n",
        "        return features_tensor, edge_index\n",
        "\n",
        "    def __len__(self):\n",
        "        return 1\n",
        "\n",
        "    def __getitem__(self, idx):\n",
        "        return Data(x=self.node_features, edge_index=self.edge_index)"
      ],
      "metadata": {
        "id": "eo_hxYYvfLNp"
      },
      "execution_count": 50,
      "outputs": []
    },
    {
      "cell_type": "code",
      "source": [
        "class TypeSafeGCN(nn.Module):\n",
        "    def __init__(self, input_dim, hidden_dim, output_dim):\n",
        "        super().__init__()\n",
        "\n",
        "        # Сохраняем параметры как атрибуты класса\n",
        "        self.input_dim = input_dim\n",
        "        self.hidden_dim = hidden_dim\n",
        "        self.output_dim = output_dim\n",
        "\n",
        "        # Инициализация слоев\n",
        "        self.conv1 = GCNConv(input_dim, hidden_dim)\n",
        "        self.conv2 = GCNConv(hidden_dim, output_dim)\n",
        "\n",
        "    def forward(self, x, edge_index):\n",
        "        x = x.float()\n",
        "        x = F.relu(self.conv1(x, edge_index))\n",
        "        return self.conv2(x, edge_index)\n",
        "\"\"\"\n",
        "# Модель с явным контролем типов\n",
        "class TypeSafeGCN(nn.Module):\n",
        "    def __init__(self, input_dim, hidden_dim, output_dim):\n",
        "        super().__init__()\n",
        "        self.conv1 = GCNConv(input_dim, hidden_dim).to(device)\n",
        "        self.conv2 = GCNConv(hidden_dim, output_dim).to(device)\n",
        "\n",
        "        # Принудительная установка типа параметров\n",
        "        for param in self.parameters():\n",
        "            param.data = param.data.float()\n",
        "\n",
        "    def forward(self, x, edge_index):\n",
        "        x = x.float()  # Явное преобразование типа\n",
        "        x = F.relu(self.conv1(x, edge_index))\n",
        "        return self.conv2(x, edge_index)\"\"\""
      ],
      "metadata": {
        "colab": {
          "base_uri": "https://localhost:8080/",
          "height": 105
        },
        "id": "E9-oL8xffSKk",
        "outputId": "2ffaf79a-2e30-41df-9e02-9904dd7f88a5"
      },
      "execution_count": 51,
      "outputs": [
        {
          "output_type": "execute_result",
          "data": {
            "text/plain": [
              "'\\n# Модель с явным контролем типов\\nclass TypeSafeGCN(nn.Module):\\n    def __init__(self, input_dim, hidden_dim, output_dim):\\n        super().__init__()\\n        self.conv1 = GCNConv(input_dim, hidden_dim).to(device)\\n        self.conv2 = GCNConv(hidden_dim, output_dim).to(device)\\n        \\n        # Принудительная установка типа параметров\\n        for param in self.parameters():\\n            param.data = param.data.float()\\n\\n    def forward(self, x, edge_index):\\n        x = x.float()  # Явное преобразование типа\\n        x = F.relu(self.conv1(x, edge_index))\\n        return self.conv2(x, edge_index)'"
            ],
            "application/vnd.google.colaboratory.intrinsic+json": {
              "type": "string"
            }
          },
          "metadata": {},
          "execution_count": 51
        }
      ]
    },
    {
      "cell_type": "code",
      "source": [
        "# Инициализация\n",
        "dataset = TypeSafeMusicDataset(data)\n",
        "loader = DataLoader(dataset, batch_size=1)\n",
        "\n",
        "model = TypeSafeGCN(\n",
        "    input_dim=len(data.columns)-3,\n",
        "    hidden_dim=64,\n",
        "    output_dim=32).to(device)\n",
        "\n",
        "optimizer = torch.optim.Adam(model.parameters(), lr=0.01)"
      ],
      "metadata": {
        "id": "3yScHKshfWMt"
      },
      "execution_count": 52,
      "outputs": []
    },
    {
      "cell_type": "code",
      "source": [
        "# Функция обучения с контролем типов\n",
        "def train_safe():\n",
        "    model.train()\n",
        "    for epoch in range(30):\n",
        "        optimizer.zero_grad()\n",
        "\n",
        "        for batch in loader:\n",
        "            batch = batch.to(device)\n",
        "\n",
        "            # Явное преобразование типов\n",
        "            x = batch.x.float()\n",
        "            edge_index = batch.edge_index.long()\n",
        "\n",
        "            # Forward pass\n",
        "            out = model(x, edge_index)\n",
        "\n",
        "            # Простой loss для демонстрации\n",
        "            target = torch.rand_like(out).float().to(device)\n",
        "            loss = F.mse_loss(out, target)\n",
        "\n",
        "            # Backward pass\n",
        "            loss.backward()\n",
        "            optimizer.step()\n",
        "\n",
        "            # Очистка памяти\n",
        "            del batch, x, edge_index, out, target\n",
        "            torch.cuda.empty_cache()\n",
        "            gc.collect()\n",
        "\n",
        "        print(f'Epoch {epoch+1}/30, Loss: {loss.item():.4f}')"
      ],
      "metadata": {
        "id": "cgMnwGx7hvHs"
      },
      "execution_count": 24,
      "outputs": []
    },
    {
      "cell_type": "code",
      "source": [
        "# Запуск обучения\n",
        "train_safe()"
      ],
      "metadata": {
        "colab": {
          "base_uri": "https://localhost:8080/"
        },
        "id": "xtC3oOJkhwvJ",
        "outputId": "43adc4e3-ba51-46ce-ec2f-c619192c5571"
      },
      "execution_count": 25,
      "outputs": [
        {
          "output_type": "stream",
          "name": "stdout",
          "text": [
            "Epoch 1/30, Loss: 0.7140\n",
            "Epoch 2/30, Loss: 0.4755\n",
            "Epoch 3/30, Loss: 0.3260\n",
            "Epoch 4/30, Loss: 0.2396\n",
            "Epoch 5/30, Loss: 0.1941\n",
            "Epoch 6/30, Loss: 0.1731\n",
            "Epoch 7/30, Loss: 0.1641\n",
            "Epoch 8/30, Loss: 0.1594\n",
            "Epoch 9/30, Loss: 0.1546\n",
            "Epoch 10/30, Loss: 0.1484\n",
            "Epoch 11/30, Loss: 0.1414\n",
            "Epoch 12/30, Loss: 0.1346\n",
            "Epoch 13/30, Loss: 0.1285\n",
            "Epoch 14/30, Loss: 0.1235\n",
            "Epoch 15/30, Loss: 0.1196\n",
            "Epoch 16/30, Loss: 0.1168\n",
            "Epoch 17/30, Loss: 0.1144\n",
            "Epoch 18/30, Loss: 0.1126\n",
            "Epoch 19/30, Loss: 0.1110\n",
            "Epoch 20/30, Loss: 0.1095\n",
            "Epoch 21/30, Loss: 0.1079\n",
            "Epoch 22/30, Loss: 0.1067\n",
            "Epoch 23/30, Loss: 0.1057\n",
            "Epoch 24/30, Loss: 0.1046\n",
            "Epoch 25/30, Loss: 0.1037\n",
            "Epoch 26/30, Loss: 0.1029\n",
            "Epoch 27/30, Loss: 0.1022\n",
            "Epoch 28/30, Loss: 0.1015\n",
            "Epoch 29/30, Loss: 0.1008\n",
            "Epoch 30/30, Loss: 0.1001\n"
          ]
        }
      ]
    },
    {
      "cell_type": "code",
      "source": [
        "# Функция рекомендаций\n",
        "def safe_recommend(song_list, n=5):\n",
        "    # Поиск индексов\n",
        "    indices = []\n",
        "    for song in song_list:\n",
        "        match = data[data['name'] == song['name']]\n",
        "        if not match.empty:\n",
        "            indices.append(match.index[0])\n",
        "        else:\n",
        "            print(f\"Song '{song['name']}' not found\")\n",
        "            return []\n",
        "\n",
        "    # Получение эмбеддингов\n",
        "    with torch.no_grad():\n",
        "        model.eval()\n",
        "        embeddings = model(dataset.node_features.float(), dataset.edge_index)\n",
        "\n",
        "    # Расчет схожести\n",
        "    input_emb = embeddings[indices].mean(dim=0)\n",
        "    cos_sim = F.cosine_similarity(input_emb.unsqueeze(0), embeddings)\n",
        "\n",
        "    # Фильтрация результатов\n",
        "    top_indices = cos_sim.topk(n + len(indices))[1].cpu().numpy()\n",
        "    recs = data.iloc[top_indices]\n",
        "    recs = recs[~recs['name'].isin([s['name'] for s in song_list])]\n",
        "\n",
        "    return recs.head(n)[['name', 'artists', 'year']]"
      ],
      "metadata": {
        "id": "ERWITLjzneHD"
      },
      "execution_count": 26,
      "outputs": []
    },
    {
      "cell_type": "code",
      "source": [
        "# Тестовый пример\n",
        "recommendations = safe_recommend([{'name': 'Break Stuff', 'artists': 'Limp Bizkit'}], n=5)\n",
        "\n",
        "print(\"\\nRecommendations:\")\n",
        "print(recommendations)"
      ],
      "metadata": {
        "colab": {
          "base_uri": "https://localhost:8080/"
        },
        "id": "XHnDNns_nfU7",
        "outputId": "149940c9-e09b-494e-ed78-ab7d744e20ad"
      },
      "execution_count": 44,
      "outputs": [
        {
          "output_type": "stream",
          "name": "stdout",
          "text": [
            "\n",
            "Recommendations:\n",
            "                    name                    artists  year  year\n",
            "169550        Easy Rider         ['Action Bronson']  2015  2015\n",
            "16049   The Taste of Ink               ['The Used']  2002  2002\n",
            "13608     Man in the Box        ['Alice In Chains']  1990  1990\n",
            "38059               Wish  ['Diplo', 'Trippie Redd']  2018  2018\n"
          ]
        }
      ]
    },
    {
      "cell_type": "code",
      "source": [
        "# Сохранение\n",
        "torch.save({\n",
        "    'model_state_dict': model.state_dict(),\n",
        "    'optimizer_state_dict': optimizer.state_dict(),\n",
        "    'hyperparams': {'input_dim': len(feature_columns), ...}\n",
        "}, 'model.pth')\n",
        "\n",
        "# Загрузка\n",
        "checkpoint = torch.load('model.pth', map_location=device)\n",
        "model.load_state_dict(checkpoint['model_state_dict'])"
      ],
      "metadata": {
        "colab": {
          "base_uri": "https://localhost:8080/",
          "height": 106
        },
        "id": "FyLRqiVittT7",
        "outputId": "7937c2f7-e4b0-4495-84f3-6a738c01a933"
      },
      "execution_count": 37,
      "outputs": [
        {
          "output_type": "error",
          "ename": "SyntaxError",
          "evalue": "':' expected after dictionary key (<ipython-input-37-00d5eb382c8d>, line 5)",
          "traceback": [
            "\u001b[0;36m  File \u001b[0;32m\"<ipython-input-37-00d5eb382c8d>\"\u001b[0;36m, line \u001b[0;32m5\u001b[0m\n\u001b[0;31m    'hyperparams': {'input_dim': len(feature_columns), ...}\u001b[0m\n\u001b[0m                                                         ^\u001b[0m\n\u001b[0;31mSyntaxError\u001b[0m\u001b[0;31m:\u001b[0m ':' expected after dictionary key\n"
          ]
        }
      ]
    },
    {
      "cell_type": "code",
      "source": [
        "def save_full_model(model, scaler, feature_columns, filename='music_recommender.h5'):\n",
        "    with h5py.File(filename, 'w') as f:\n",
        "        # Сохраняем параметры модели как атрибуты\n",
        "        model_info = f.create_group('model_info')\n",
        "        model_info.attrs['input_dim'] = model.input_dim\n",
        "        model_info.attrs['hidden_dim'] = model.hidden_dim\n",
        "        model_info.attrs['output_dim'] = model.output_dim\n",
        "\n",
        "        # Сохраняем веса модели\n",
        "        weights_grp = f.create_group('model_weights')\n",
        "        for name, param in model.named_parameters():\n",
        "            weights_grp.create_dataset(name, data=param.cpu().detach().numpy())\n",
        "\n",
        "        # Остальные части остаются без изменений\n",
        "        scaler_grp = f.create_group('scaler')\n",
        "        scaler_grp.create_dataset('mean_', data=scaler.mean_)\n",
        "        scaler_grp.create_dataset('scale_', data=scaler.scale_)\n",
        "        scaler_grp.create_dataset('var_', data=scaler.var_)\n",
        "        scaler_grp.create_dataset('n_samples_seen_', data=scaler.n_samples_seen_)\n",
        "\n",
        "        f.create_dataset('feature_columns', data=np.array(feature_columns, dtype='S'))"
      ],
      "metadata": {
        "id": "uzMrwE8KurhG"
      },
      "execution_count": 41,
      "outputs": []
    },
    {
      "cell_type": "code",
      "source": [
        "def load_full_model(filename, device):\n",
        "    with h5py.File(filename, 'r') as f:\n",
        "        # Получаем параметры модели\n",
        "        input_dim = f['model_info'].attrs['input_dim']\n",
        "        hidden_dim = f['model_info'].attrs['hidden_dim']\n",
        "        output_dim = f['model_info'].attrs['output_dim']\n",
        "\n",
        "        # Создаем экземпляр модели\n",
        "        model = TypeSafeGCN(input_dim, hidden_dim, output_dim).to(device)\n",
        "\n",
        "        # Загружаем веса\n",
        "        for name, param in model.named_parameters():\n",
        "            param.data = torch.tensor(f['model_weights'][name][...], device=device)\n",
        "\n",
        "        # Загружаем остальные компоненты\n",
        "        scaler = StandardScaler()\n",
        "        scaler.mean_ = f['scaler/mean_'][...]\n",
        "        scaler.scale_ = f['scaler/scale_'][...]\n",
        "        scaler.var_ = f['scaler/var_'][...]\n",
        "        scaler.n_samples_seen_ = f['scaler/n_samples_seen_'][()]\n",
        "\n",
        "        feature_columns = [col.decode('utf-8') for col in f['feature_columns'][...]]\n",
        "\n",
        "    return model, scaler, feature_columns"
      ],
      "metadata": {
        "id": "PSOI4CbAvg-E"
      },
      "execution_count": 42,
      "outputs": []
    },
    {
      "cell_type": "code",
      "source": [
        "# Тест сохранения и загрузки\n",
        "model = TypeSafeGCN(15, 64, 32).to(device)\n",
        "save_full_model(model, scaler, feature_columns, 'test_model.h5')\n",
        "loaded_model, _, _ = load_full_model('test_model.h5', device)\n",
        "\n",
        "# Проверка атрибутов\n",
        "print(loaded_model.input_dim)  # Должно вывести 15\n",
        "print(loaded_model.hidden_dim) # Должно вывести 64\n",
        "print(loaded_model.output_dim) # Должно вывести 32"
      ],
      "metadata": {
        "colab": {
          "base_uri": "https://localhost:8080/"
        },
        "id": "fa69wSv0vjsz",
        "outputId": "6910b075-c87b-4b36-cb82-73909ff0c759"
      },
      "execution_count": 43,
      "outputs": [
        {
          "output_type": "stream",
          "name": "stdout",
          "text": [
            "15\n",
            "64\n",
            "32\n"
          ]
        }
      ]
    }
  ]
}